{
 "cells": [
  {
   "cell_type": "code",
   "execution_count": 1,
   "metadata": {},
   "outputs": [],
   "source": [
    "from pathlib import Path\n",
    "\n",
    "import numpy as np\n",
    "import pandas as pd\n",
    "from sklearn.model_selection import StratifiedShuffleSplit\n",
    "import matplotlib.pyplot as plt"
   ]
  },
  {
   "cell_type": "markdown",
   "metadata": {},
   "source": [
    "# Train data"
   ]
  },
  {
   "cell_type": "code",
   "execution_count": 2,
   "metadata": {},
   "outputs": [],
   "source": [
    "root_dir = Path('/home/lang/Projects/Hecktor2021/challenge_data/data/')"
   ]
  },
  {
   "cell_type": "code",
   "execution_count": 3,
   "metadata": {},
   "outputs": [],
   "source": [
    "surv_training_df = pd.read_csv(root_dir / 'hecktor2021_train/hecktor2021_patient_endpoint_training.csv')\n",
    "cols = {\n",
    "    'PatientID': 'identifier',\n",
    "    'Progression': 'event',\n",
    "    'Progression free survival': 'time'\n",
    "}\n",
    "surv_training_df = surv_training_df.rename(columns=cols)"
   ]
  },
  {
   "cell_type": "code",
   "execution_count": 4,
   "metadata": {},
   "outputs": [],
   "source": [
    "clin_training_df = pd.read_csv(root_dir / 'hecktor2021_train/hecktor2021_patient_info_training.csv')"
   ]
  },
  {
   "cell_type": "code",
   "execution_count": 5,
   "metadata": {},
   "outputs": [],
   "source": [
    "columns = {\n",
    "    'PatientID': 'identifier',\n",
    "    'PatientID_hecktor': 'identifier',\n",
    "    'CenterID': 'center',\n",
    "    'Gender (1=M,0=F)': 'gender',\n",
    "    'Age': 'age',\n",
    "    'Tobacco': 'tobacco',\n",
    "    'Alcohol': 'alcohol',\n",
    "    'Performance status': 'performance',\n",
    "    'TNM edition': 'tnm_edition',\n",
    "    'TNM group': 'tnm_stage',\n",
    "    'T-stage': 't_stage',\n",
    "    'N-stage': 'n_stage',\n",
    "    'M-stage': 'm_stage',\n",
    "    'HPV status (0=-, 1=+)': 'hpv_status',\n",
    "    'Chemotherapy': 'chemo',\n",
    "    'Estimated weight (kg) for SUV': 'suv_weight'\n",
    "}"
   ]
  },
  {
   "cell_type": "code",
   "execution_count": 6,
   "metadata": {},
   "outputs": [],
   "source": [
    "clin_training_df = clin_training_df.rename(columns=columns)"
   ]
  },
  {
   "cell_type": "code",
   "execution_count": 7,
   "metadata": {},
   "outputs": [],
   "source": [
    "training_df = surv_training_df.merge(clin_training_df, how='left')"
   ]
  },
  {
   "cell_type": "code",
   "execution_count": 8,
   "metadata": {},
   "outputs": [],
   "source": [
    "def to_cat(series, na_action):\n",
    "    dic = {}\n",
    "    keys = sorted(series.value_counts().keys())\n",
    "    for val, key in enumerate(keys):\n",
    "        dic[key] = val\n",
    "    return series.map(dic, na_action=na_action)"
   ]
  },
  {
   "cell_type": "code",
   "execution_count": 9,
   "metadata": {},
   "outputs": [],
   "source": [
    "for col in ['t_stage', 'n_stage', 'm_stage', 'tnm_stage']:\n",
    "    training_df[col] = to_cat(training_df[col], 'ignore')"
   ]
  },
  {
   "cell_type": "code",
   "execution_count": 10,
   "metadata": {},
   "outputs": [],
   "source": [
    "training_df['split'] = (\n",
    "    1000*training_df['chemo'].fillna(2) +\n",
    "    100*training_df['center'].fillna(0) +\n",
    "    10*training_df['hpv_status'].fillna(2) +\n",
    "    training_df['event']\n",
    ")\n",
    "\n",
    "cut_split = {}\n",
    "for key, value in training_df['split'].value_counts().iteritems():\n",
    "    if value < 5:\n",
    "        cut_split[key] = -1\n",
    "\n",
    "training_df['split'] = training_df['split'].replace(cut_split)"
   ]
  },
  {
   "cell_type": "code",
   "execution_count": 11,
   "metadata": {},
   "outputs": [],
   "source": [
    "training_df = training_df.fillna(-1)"
   ]
  },
  {
   "cell_type": "code",
   "execution_count": 12,
   "metadata": {},
   "outputs": [],
   "source": [
    "split_size = 0.15\n",
    "split = StratifiedShuffleSplit(n_splits=1, test_size=split_size, random_state=42)\n",
    "\n",
    "for train_idx, valid_idx in split.split(training_df, training_df['split']):\n",
    "    train_df = training_df.iloc[train_idx]\n",
    "    valid_df = training_df.iloc[valid_idx]"
   ]
  },
  {
   "cell_type": "code",
   "execution_count": 13,
   "metadata": {},
   "outputs": [
    {
     "data": {
      "image/png": "[encoded data removed]",
      "text/plain": [
       "<Figure size 432x288 with 1 Axes>"
      ]
     },
     "metadata": {
      "needs_background": "light"
     },
     "output_type": "display_data"
    }
   ],
   "source": [
    "_ = plt.hist(training_df['time'].values, bins=100)"
   ]
  },
  {
   "cell_type": "code",
   "execution_count": 14,
   "metadata": {},
   "outputs": [
    {
     "data": {
      "image/png": "[encoded data removed]",
      "text/plain": [
       "<Figure size 432x288 with 1 Axes>"
      ]
     },
     "metadata": {
      "needs_background": "light"
     },
     "output_type": "display_data"
    }
   ],
   "source": [
    "_ = plt.hist(train_df['time'].values, bins=100)\n",
    "_ = plt.xlim([0, 3000])"
   ]
  },
  {
   "cell_type": "code",
   "execution_count": 15,
   "metadata": {},
   "outputs": [
    {
     "data": {
      "image/png": "[encoded data removed]",
      "text/plain": [
       "<Figure size 432x288 with 1 Axes>"
      ]
     },
     "metadata": {
      "needs_background": "light"
     },
     "output_type": "display_data"
    }
   ],
   "source": [
    "_ = plt.hist(valid_df['time'].values, bins=100)\n",
    "_ = plt.xlim([0, 3000])"
   ]
  },
  {
   "cell_type": "markdown",
   "metadata": {},
   "source": [
    "# Test"
   ]
  },
  {
   "cell_type": "code",
   "execution_count": 16,
   "metadata": {},
   "outputs": [],
   "source": [
    "clin_test_df = pd.read_csv(root_dir / 'hecktor2021_test/hecktor2021_patient_info_testing.csv')"
   ]
  },
  {
   "cell_type": "code",
   "execution_count": 17,
   "metadata": {},
   "outputs": [],
   "source": [
    "test_df = clin_test_df.rename(columns=columns)"
   ]
  },
  {
   "cell_type": "code",
   "execution_count": 18,
   "metadata": {},
   "outputs": [],
   "source": [
    "for col in ['t_stage', 'n_stage', 'm_stage', 'tnm_stage']:\n",
    "    test_df[col] = to_cat(test_df[col], 'ignore')"
   ]
  },
  {
   "cell_type": "code",
   "execution_count": 19,
   "metadata": {},
   "outputs": [],
   "source": [
    "test_df = test_df.fillna(-1)"
   ]
  },
  {
   "cell_type": "markdown",
   "metadata": {},
   "source": [
    "# Save"
   ]
  },
  {
   "cell_type": "code",
   "execution_count": 20,
   "metadata": {},
   "outputs": [],
   "source": [
    "to_disk = False\n",
    "if to_disk:            \n",
    "    save_path = root_dir / 'label/split'\n",
    "    save_path.mkdir(parents=True, exist_ok=True)\n",
    "    \n",
    "    training_df.to_csv(\n",
    "        save_path.parent / 'training.csv',\n",
    "        index=False\n",
    "    )\n",
    "    test_df.to_csv(\n",
    "        save_path.parent / 'test.csv',\n",
    "        index=False\n",
    "    )\n",
    "\n",
    "    train_df.to_csv(save_path / 'train.csv', index=False)\n",
    "    valid_df.to_csv(save_path / 'valid.csv', index=False)"
   ]
  },
  {
   "cell_type": "code",
   "execution_count": null,
   "metadata": {},
   "outputs": [],
   "source": []
  }
 ],
 "metadata": {
  "kernelspec": {
   "display_name": "Python [conda env:nrrd] *",
   "language": "python",
   "name": "conda-env-nrrd-py"
  },
  "language_info": {
   "codemirror_mode": {
    "name": "ipython",
    "version": 3
   },
   "file_extension": ".py",
   "mimetype": "text/x-python",
   "name": "python",
   "nbconvert_exporter": "python",
   "pygments_lexer": "ipython3",
   "version": "3.7.3"
  }
 },
 "nbformat": 4,
 "nbformat_minor": 2
}
